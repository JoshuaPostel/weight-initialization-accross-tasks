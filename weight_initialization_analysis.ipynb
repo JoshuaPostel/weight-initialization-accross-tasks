{
 "cells": [
  {
   "cell_type": "markdown",
   "metadata": {},
   "source": [
    "# Background\n",
    "\n",
    "In section 4.3 of [Fine-Tuning Pretrained Language Models: Weight Initializations, Data Orders, and Early Stopping](https://arxiv.org/abs/2002.06305) the author poses an interesting question:\n",
    "\n",
    "> A natural question that follows is whether some random seeds are good across datasets. While the data order is dataset specific, the same weight initialization can be applied to multiple classifiers trained with different datasets\n",
    "\n",
    "An anecdote is given...\n",
    "\n",
    "> We find that some initializations perform con-sistently well. For instance, WI seed 12 has the best perfor-mance on CoLA and RTE, the second best on MRPC, and third best on SST. This suggests that, perhaps surprisingly, some weight initializations perform well across tasks.\n",
    "\n",
    "...and then the question is posed as future work:\n",
    "\n",
    "> We defer this question to future work, and release the results of our 2,100 fine-tuning experiments to facilitate further study of this question by the community."
   ]
  },
  {
   "cell_type": "markdown",
   "metadata": {},
   "source": [
    "# Analysis\n",
    "\n",
    "### Goal\n",
    "Determine (with more statistical rigor) whether or not some weight initializations (WI) are better than others across multiple tasks.\n",
    "\n",
    "### Speculative Motivation\n",
    "Suppose there exists an \"ideal\" WI which out performs all other WIs when fine tuning on any* downstream task. This ideal WI should be found and published for popular pretrained models. This would result in a higher mean and lower variance for the model's fine tuning performance.\n",
    "\n",
    "**note: the tasks analyzed here are all binary classification. An \"ideal\" WI would have to be found for each type of downstream task (classification, seq2seq, span, etc.) which changes the model's final layers.*"
   ]
  },
  {
   "cell_type": "markdown",
   "metadata": {},
   "source": [
    "# Findings\n",
    "\n",
    "It is difficult to compare weight initializations accros tasks because the task scores follow different non-normal distributions.\n",
    "\n",
    "Performing a [Kruskal-Wallis test](https://en.wikipedia.org/wiki/Kruskal%E2%80%93Wallis_one-way_analysis_of_variance) and breaking some of the methodology (inter-task ranking instead of global ranking) appears to confirm the author's anecdote about seed 12.\n"
   ]
  },
  {
   "cell_type": "markdown",
   "metadata": {},
   "source": [
    "## Data Prep"
   ]
  },
  {
   "cell_type": "code",
   "execution_count": 1,
   "metadata": {},
   "outputs": [],
   "source": [
    "import pickle\n",
    "from collections import namedtuple\n",
    "import pandas as pd\n",
    "import numpy as np\n",
    "import matplotlib.pyplot as plt\n",
    "from scipy import stats\n",
    "import scikit_posthocs"
   ]
  },
  {
   "cell_type": "code",
   "execution_count": 2,
   "metadata": {},
   "outputs": [
    {
     "name": "stdout",
     "output_type": "stream",
     "text": [
      "--2020-04-09 17:44:28--  http://www.cs.cmu.edu/~jessed/data_hosting/random_seed_data.zip\n",
      "Resolving www.cs.cmu.edu (www.cs.cmu.edu)... 128.2.42.95\n",
      "Connecting to www.cs.cmu.edu (www.cs.cmu.edu)|128.2.42.95|:80... connected.\n",
      "HTTP request sent, awaiting response... 200 OK\n",
      "Length: 24299538 (23M) [application/zip]\n",
      "Saving to: ‘random_seed_data.zip’\n",
      "\n",
      "random_seed_data.zi 100%[===================>]  23.17M   598KB/s    in 29s     \n",
      "\n",
      "2020-04-09 17:44:57 (827 KB/s) - ‘random_seed_data.zip’ saved [24299538/24299538]\n",
      "\n"
     ]
    }
   ],
   "source": [
    "!wget www.cs.cmu.edu/~jessed/data_hosting/random_seed_data.zip"
   ]
  },
  {
   "cell_type": "code",
   "execution_count": 3,
   "metadata": {},
   "outputs": [
    {
     "name": "stdout",
     "output_type": "stream",
     "text": [
      "Archive:  random_seed_data.zip\n",
      "  inflating: all_data                \n",
      "  inflating: description.txt         \n"
     ]
    }
   ],
   "source": [
    "!unzip random_seed_data.zip"
   ]
  },
  {
   "cell_type": "code",
   "execution_count": 4,
   "metadata": {},
   "outputs": [],
   "source": [
    "with open(\"all_data\", \"rb\") as f:\n",
    "    data = pickle.load(f)\n",
    "    \n",
    "tm = namedtuple(\"task_metric\", [\"task\", \"metric\"])\n",
    "task_metrics = [tm(\"mrpc\", \"acc_and_f1\"), tm(\"sst\", \"acc\"), tm(\"cola\", \"mcc\"), tm(\"rte\", \"acc\")]\n",
    "\n",
    "# extract the best evaluation score from each trining run \n",
    "for tm in task_metrics:\n",
    "    # weight initialization (wi)\n",
    "    for wi in data[tm.task].keys():\n",
    "        # data order (do)\n",
    "        for do in data[tm.task][wi].keys():\n",
    "            evaluations = data[tm.task][wi][do][tm.metric][\"during\"]\n",
    "            data[tm.task][wi][do][tm.metric][\"best\"] = max(evaluation[1] for evaluation in evaluations)"
   ]
  },
  {
   "cell_type": "markdown",
   "metadata": {},
   "source": [
    "## Data for analysis\n",
    "\n",
    "Since we want to compare weight initializations across tasks, the different data orderings can be viewed as independent fine tunings of the model.  This gives us a sample for each WI on which to do statistical analysis.\n",
    "\n",
    "Due to the computational constraints in the paper (see section 2.2), seeds 1-15 have a sample size of `n = 90 = 25 + 25 + 25 + 15` and seeds 16-25 have a sample size of `n = 75 = 25 + 25 + 25`.  Additionally, seeds 1-15 cannot be fairly compared to seeds 16-25 without dropping the scores from the SST task. As a result:\n",
    "* when comparing accros all tasks, seeds 16-25 will not be included\n",
    "* when comparing accros all seeds, the SST task will not be included"
   ]
  },
  {
   "cell_type": "code",
   "execution_count": 6,
   "metadata": {},
   "outputs": [
    {
     "name": "stdout",
     "output_type": "stream",
     "text": [
      "seed 13: n = 90\n",
      "seed 23: n = 75\n"
     ]
    },
    {
     "data": {
      "text/html": [
       "<div>\n",
       "<style scoped>\n",
       "    .dataframe tbody tr th:only-of-type {\n",
       "        vertical-align: middle;\n",
       "    }\n",
       "\n",
       "    .dataframe tbody tr th {\n",
       "        vertical-align: top;\n",
       "    }\n",
       "\n",
       "    .dataframe thead th {\n",
       "        text-align: right;\n",
       "    }\n",
       "</style>\n",
       "<table border=\"1\" class=\"dataframe\">\n",
       "  <thead>\n",
       "    <tr style=\"text-align: right;\">\n",
       "      <th></th>\n",
       "      <th>wi</th>\n",
       "      <th>task</th>\n",
       "      <th>score</th>\n",
       "    </tr>\n",
       "  </thead>\n",
       "  <tbody>\n",
       "    <tr>\n",
       "      <th>0</th>\n",
       "      <td>19</td>\n",
       "      <td>mrpc</td>\n",
       "      <td>0.894556</td>\n",
       "    </tr>\n",
       "    <tr>\n",
       "      <th>1</th>\n",
       "      <td>19</td>\n",
       "      <td>mrpc</td>\n",
       "      <td>0.903558</td>\n",
       "    </tr>\n",
       "    <tr>\n",
       "      <th>2</th>\n",
       "      <td>19</td>\n",
       "      <td>mrpc</td>\n",
       "      <td>0.894556</td>\n",
       "    </tr>\n",
       "    <tr>\n",
       "      <th>3</th>\n",
       "      <td>19</td>\n",
       "      <td>mrpc</td>\n",
       "      <td>0.889594</td>\n",
       "    </tr>\n",
       "    <tr>\n",
       "      <th>4</th>\n",
       "      <td>19</td>\n",
       "      <td>mrpc</td>\n",
       "      <td>0.760784</td>\n",
       "    </tr>\n",
       "  </tbody>\n",
       "</table>\n",
       "</div>"
      ],
      "text/plain": [
       "   wi  task     score\n",
       "0  19  mrpc  0.894556\n",
       "1  19  mrpc  0.903558\n",
       "2  19  mrpc  0.894556\n",
       "3  19  mrpc  0.889594\n",
       "4  19  mrpc  0.760784"
      ]
     },
     "execution_count": 6,
     "metadata": {},
     "output_type": "execute_result"
    },
    {
     "data": {
      "image/png": "[encoded data removed]",
      "text/plain": [
       "<Figure size 720x360 with 4 Axes>"
      ]
     },
     "metadata": {
      "needs_background": "light"
     },
     "output_type": "display_data"
    }
   ],
   "source": [
    "# creat a dataframe containing the weight initialization, task, and score for each fine tuning run\n",
    "l = []\n",
    "for tm in task_metrics:\n",
    "    for wi in data[tm.task].keys():\n",
    "        for do in data[tm.task][wi].keys():\n",
    "            l.append([wi, tm.task, data[tm.task][wi][do][tm.metric][\"best\"]])\n",
    "        \n",
    "df = pd.DataFrame(l, columns=[\"wi\", \"task\", \"score\"])\n",
    "print(\"seed 13: n =\", len(df[df.wi == 13]))\n",
    "print(\"seed 23: n =\", len(df[df.wi == 23]))\n",
    "\n",
    "plt.rcParams['figure.figsize'] = [10, 5]\n",
    "ax = df.drop(\"wi\", axis=1).hist(by=\"task\")\n",
    "\n",
    "df.head()"
   ]
  },
  {
   "cell_type": "markdown",
   "metadata": {},
   "source": [
    "## Null and Void Methodology \n",
    "\n",
    "Since the distribution of the tasks' scores follow different non-normal distributions, adjusting/normalizing the scores is not straight forward.  This is the main challenge in this analysis and likely why the author did not perform it.\n",
    "\n",
    "Here I perform a [Kruskal-Wallis test](https://en.wikipedia.org/wiki/Kruskal%E2%80%93Wallis_one-way_analysis_of_variance) to compare the performance of WIs.  The assumption of \"*identically shaped and scaled distribution for all groups, except for any difference in medians*\" is not perfect (see cell below), but acceptable for me.  **The ranks used are inter-task ranks, not global ranks. This deviation in methodology which makes the results null and void.** That said, Kruskal-Wallis is built to handle ties, maybe it could be considered a workaround. "
   ]
  },
  {
   "cell_type": "code",
   "execution_count": 7,
   "metadata": {},
   "outputs": [],
   "source": [
    "#kernal density estimation to do a rough check of Kruskal-Wallis assumption\n",
    "#for wi in range(1,26):\n",
    "#    df[df.wi == wi].drop(\"wi\", axis=1).plot.density()"
   ]
  },
  {
   "cell_type": "markdown",
   "metadata": {},
   "source": [
    "## Comparison of all seeds"
   ]
  },
  {
   "cell_type": "code",
   "execution_count": 8,
   "metadata": {},
   "outputs": [
    {
     "name": "stderr",
     "output_type": "stream",
     "text": [
      "/home/jpostel1/envs/base/lib/python3.6/site-packages/ipykernel_launcher.py:2: SettingWithCopyWarning: \n",
      "A value is trying to be set on a copy of a slice from a DataFrame.\n",
      "Try using .loc[row_indexer,col_indexer] = value instead\n",
      "\n",
      "See the caveats in the documentation: http://pandas.pydata.org/pandas-docs/stable/user_guide/indexing.html#returning-a-view-versus-a-copy\n",
      "  \n"
     ]
    },
    {
     "data": {
      "text/plain": [
       "KruskalResult(statistic=76.61847004291539, pvalue=2.0839239866532965e-07)"
      ]
     },
     "execution_count": 8,
     "metadata": {},
     "output_type": "execute_result"
    }
   ],
   "source": [
    "all_seeds = df[df.task != \"sst\"]\n",
    "all_seeds[\"rank\"] = all_seeds.groupby(\"task\")[\"score\"].rank(ascending=False)\n",
    "\n",
    "ranks = [all_seeds[all_seeds.wi == x][\"rank\"].tolist() for x in range(1, all_seeds.wi.nunique() + 1)]\n",
    "stats.kruskal(*ranks)"
   ]
  },
  {
   "cell_type": "code",
   "execution_count": 9,
   "metadata": {},
   "outputs": [
    {
     "data": {
      "text/plain": [
       "(<matplotlib.axes._subplots.AxesSubplot at 0x7f17696404a8>,\n",
       " <matplotlib.colorbar.ColorbarBase at 0x7f1769536ef0>)"
      ]
     },
     "execution_count": 9,
     "metadata": {},
     "output_type": "execute_result"
    },
    {
     "data": {
      "image/png": "[encoded data removed]",
      "text/plain": [
       "<Figure size 720x360 with 2 Axes>"
      ]
     },
     "metadata": {
      "needs_background": "light"
     },
     "output_type": "display_data"
    }
   ],
   "source": [
    "# small p-value, so continue on to post hoc analysis\n",
    "plt.rcParams['figure.figsize'] = [10, 5]\n",
    "heatmap_args = {'linewidths': 0.25, \n",
    "                'linecolor': '0.5', \n",
    "                'clip_on': False, \n",
    "                'square': True, \n",
    "                'cbar_ax_bbox': [0.80, 0.35, 0.04, 0.3]}\n",
    "\n",
    "pvalues = scikit_posthocs.posthoc_dunn(ranks, val_col=\"rank\", group_col=\"wi\", p_adjust=\"bonferroni\")\n",
    "scikit_posthocs.sign_plot(pvalues, **heatmap_args)\n",
    "\n",
    "#use your favorie posthoc:\n",
    "#they look roughly the same except for nemenyi (lower power test)\n",
    "#scikit_posthocs.posthoc_nemenyi\n",
    "#scikit_posthocs.posthoc_conover\n",
    "#scikit_posthocs.posthoc_vanwaerden"
   ]
  },
  {
   "cell_type": "markdown",
   "metadata": {},
   "source": [
    "## Comparison of all tasks"
   ]
  },
  {
   "cell_type": "code",
   "execution_count": 10,
   "metadata": {},
   "outputs": [
    {
     "data": {
      "text/plain": [
       "KruskalResult(statistic=40.577978149444974, pvalue=0.00020719698047887256)"
      ]
     },
     "execution_count": 10,
     "metadata": {},
     "output_type": "execute_result"
    }
   ],
   "source": [
    "df = df[df.wi <= 15]\n",
    "df[\"rank\"] = df.groupby(\"task\")[\"score\"].rank(\"max\", ascending=False)\n",
    "ranks = [df[df.wi == x][\"rank\"].tolist() for x in range(1, df.wi.nunique() + 1)]\n",
    "stats.kruskal(*ranks)"
   ]
  },
  {
   "cell_type": "code",
   "execution_count": 11,
   "metadata": {},
   "outputs": [
    {
     "data": {
      "text/plain": [
       "(<matplotlib.axes._subplots.AxesSubplot at 0x7f1769625d30>,\n",
       " <matplotlib.colorbar.ColorbarBase at 0x7f1765871e10>)"
      ]
     },
     "execution_count": 11,
     "metadata": {},
     "output_type": "execute_result"
    },
    {
     "data": {
      "image/png": "[encoded data removed]",
      "text/plain": [
       "<Figure size 720x360 with 2 Axes>"
      ]
     },
     "metadata": {
      "needs_background": "light"
     },
     "output_type": "display_data"
    }
   ],
   "source": [
    "# small p-value, so continue on to post hoc analysis\n",
    "pvalues = scikit_posthocs.posthoc_vanwaerden(ranks, val_col=\"rank\", group_col=\"wi\", p_adjust=\"bonferroni\")\n",
    "scikit_posthocs.sign_plot(pvalues, **heatmap_args)\n",
    "\n",
    "#use your favorie posthoc:\n",
    "#they look roughly the same except for nemenyi (lower power test)\n",
    "#scikit_posthocs.posthoc_nemenyi\n",
    "#scikit_posthocs.posthoc_conover\n",
    "#scikit_posthocs.posthoc_vanwaerden"
   ]
  },
  {
   "cell_type": "code",
   "execution_count": null,
   "metadata": {},
   "outputs": [],
   "source": []
  }
 ],
 "metadata": {
  "kernelspec": {
   "display_name": "Python 3",
   "language": "python",
   "name": "python3"
  },
  "language_info": {
   "codemirror_mode": {
    "name": "ipython",
    "version": 3
   },
   "file_extension": ".py",
   "mimetype": "text/x-python",
   "name": "python",
   "nbconvert_exporter": "python",
   "pygments_lexer": "ipython3",
   "version": "3.6.8"
  }
 },
 "nbformat": 4,
 "nbformat_minor": 4
}
